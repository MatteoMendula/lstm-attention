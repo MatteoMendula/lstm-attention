{
 "cells": [
  {
   "cell_type": "code",
   "execution_count": 106,
   "id": "49b15fe2",
   "metadata": {},
   "outputs": [
    {
     "data": {
      "text/plain": [
       "((1952, 3), (320, 3))"
      ]
     },
     "execution_count": 106,
     "metadata": {},
     "output_type": "execute_result"
    }
   ],
   "source": [
    "import pandas as pd\n",
    "import numpy as np \n",
    "\n",
    "# here 1 is stressed - 0 is not stressed\n",
    "\n",
    "train_interview = pd.read_csv('train_interview.csv')\n",
    "test_interview = pd.read_csv('test_interview.csv')\n",
    "(train_interview.shape, test_interview.shape)"
   ]
  },
  {
   "cell_type": "code",
   "execution_count": 107,
   "id": "4f84de76",
   "metadata": {},
   "outputs": [
    {
     "data": {
      "text/html": [
       "<div>\n",
       "<style scoped>\n",
       "    .dataframe tbody tr th:only-of-type {\n",
       "        vertical-align: middle;\n",
       "    }\n",
       "\n",
       "    .dataframe tbody tr th {\n",
       "        vertical-align: top;\n",
       "    }\n",
       "\n",
       "    .dataframe thead th {\n",
       "        text-align: right;\n",
       "    }\n",
       "</style>\n",
       "<table border=\"1\" class=\"dataframe\">\n",
       "  <thead>\n",
       "    <tr style=\"text-align: right;\">\n",
       "      <th></th>\n",
       "      <th>id</th>\n",
       "      <th>text</th>\n",
       "      <th>label</th>\n",
       "    </tr>\n",
       "  </thead>\n",
       "  <tbody>\n",
       "    <tr>\n",
       "      <th>0</th>\n",
       "      <td>sp_19-03</td>\n",
       "      <td>Which people might believe Hong Kong is pretty...</td>\n",
       "      <td>1</td>\n",
       "    </tr>\n",
       "    <tr>\n",
       "      <th>1</th>\n",
       "      <td>sp_19-03</td>\n",
       "      <td>And it's very crowded even as compared to Hong...</td>\n",
       "      <td>1</td>\n",
       "    </tr>\n",
       "    <tr>\n",
       "      <th>2</th>\n",
       "      <td>sp_19-03</td>\n",
       "      <td>And the main thing about Delhi is that it's pr...</td>\n",
       "      <td>1</td>\n",
       "    </tr>\n",
       "    <tr>\n",
       "      <th>3</th>\n",
       "      <td>sp_19-02</td>\n",
       "      <td>But it was way different than the places I've ...</td>\n",
       "      <td>1</td>\n",
       "    </tr>\n",
       "    <tr>\n",
       "      <th>4</th>\n",
       "      <td>sp_18-12</td>\n",
       "      <td>So I guess the pressure comes from that just w...</td>\n",
       "      <td>1</td>\n",
       "    </tr>\n",
       "  </tbody>\n",
       "</table>\n",
       "</div>"
      ],
      "text/plain": [
       "         id                                               text   label\n",
       "0  sp_19-03  Which people might believe Hong Kong is pretty...       1\n",
       "1  sp_19-03  And it's very crowded even as compared to Hong...       1\n",
       "2  sp_19-03  And the main thing about Delhi is that it's pr...       1\n",
       "3  sp_19-02  But it was way different than the places I've ...       1\n",
       "4  sp_18-12  So I guess the pressure comes from that just w...       1"
      ]
     },
     "execution_count": 107,
     "metadata": {},
     "output_type": "execute_result"
    }
   ],
   "source": [
    "\n",
    "train_interview.head()"
   ]
  },
  {
   "cell_type": "code",
   "execution_count": 108,
   "id": "a1dd3e75",
   "metadata": {},
   "outputs": [
    {
     "data": {
      "text/html": [
       "<div>\n",
       "<style scoped>\n",
       "    .dataframe tbody tr th:only-of-type {\n",
       "        vertical-align: middle;\n",
       "    }\n",
       "\n",
       "    .dataframe tbody tr th {\n",
       "        vertical-align: top;\n",
       "    }\n",
       "\n",
       "    .dataframe thead th {\n",
       "        text-align: right;\n",
       "    }\n",
       "</style>\n",
       "<table border=\"1\" class=\"dataframe\">\n",
       "  <thead>\n",
       "    <tr style=\"text-align: right;\">\n",
       "      <th></th>\n",
       "      <th>id</th>\n",
       "      <th>text</th>\n",
       "      <th>label</th>\n",
       "    </tr>\n",
       "  </thead>\n",
       "  <tbody>\n",
       "    <tr>\n",
       "      <th>0</th>\n",
       "      <td>sp_25-12</td>\n",
       "      <td>My friends back home would be the same fewer a...</td>\n",
       "      <td>1</td>\n",
       "    </tr>\n",
       "    <tr>\n",
       "      <th>1</th>\n",
       "      <td>sp_25-12</td>\n",
       "      <td>So I kind of got used to not being home talkin...</td>\n",
       "      <td>1</td>\n",
       "    </tr>\n",
       "    <tr>\n",
       "      <th>2</th>\n",
       "      <td>sp_25-11</td>\n",
       "      <td>But I still have to pass and do good job proba...</td>\n",
       "      <td>1</td>\n",
       "    </tr>\n",
       "    <tr>\n",
       "      <th>3</th>\n",
       "      <td>sp_25-11</td>\n",
       "      <td>So I don't feel pressure here so much</td>\n",
       "      <td>1</td>\n",
       "    </tr>\n",
       "    <tr>\n",
       "      <th>4</th>\n",
       "      <td>sp_25-11</td>\n",
       "      <td>And I got a good grade and would compensate wi...</td>\n",
       "      <td>1</td>\n",
       "    </tr>\n",
       "  </tbody>\n",
       "</table>\n",
       "</div>"
      ],
      "text/plain": [
       "         id                                               text   label\n",
       "0  sp_25-12  My friends back home would be the same fewer a...       1\n",
       "1  sp_25-12  So I kind of got used to not being home talkin...       1\n",
       "2  sp_25-11  But I still have to pass and do good job proba...       1\n",
       "3  sp_25-11              So I don't feel pressure here so much       1\n",
       "4  sp_25-11  And I got a good grade and would compensate wi...       1"
      ]
     },
     "execution_count": 108,
     "metadata": {},
     "output_type": "execute_result"
    }
   ],
   "source": [
    "\n",
    "test_interview.head()"
   ]
  },
  {
   "cell_type": "code",
   "execution_count": 109,
   "id": "f149df16",
   "metadata": {},
   "outputs": [],
   "source": [
    "twitter_relax_text = np.load('twitter_relax_text.npy')\n",
    "twitter_stress_text = np.load('twitter_stress_text.npy')"
   ]
  },
  {
   "cell_type": "code",
   "execution_count": 110,
   "id": "3320f8e3",
   "metadata": {},
   "outputs": [
    {
     "data": {
      "text/plain": [
       "array(['18 years enjoying a life full of love',\n",
       "       \"brandon is my biggest supporter i could n't thank him enough for all he does for me\",\n",
       "       \"changes , right now i'm going through changes\",\n",
       "       'trader joes cashier gave me secret stickers because he liked my hair and then i found a dollar in the parking lot',\n",
       "       'concrete has been poured ! up next is the installation of the cinderblocks ! great things are happening for cro baseball !',\n",
       "       \"sd to lax what 's a long productive day finally heading home !\",\n",
       "       \"i 've been asking myself the last few months , instead of hearing what god has to say\",\n",
       "       'went to order a 10 thing on amazon only to find out i had 10 left of an old gift card applied to my account so that shit was free',\n",
       "       \"joshua made me a scrap book of the last 6 months of our relationship and i have n't stopped crying\",\n",
       "       'we are officially roomies tomorrow and i cannot wait'],\n",
       "      dtype='<U187')"
      ]
     },
     "execution_count": 110,
     "metadata": {},
     "output_type": "execute_result"
    }
   ],
   "source": [
    "twitter_relax_text[:10]"
   ]
  },
  {
   "cell_type": "code",
   "execution_count": 111,
   "id": "4164cc0a",
   "metadata": {},
   "outputs": [
    {
     "data": {
      "text/plain": [
       "307544"
      ]
     },
     "execution_count": 111,
     "metadata": {},
     "output_type": "execute_result"
    }
   ],
   "source": [
    "twitter_relax_text.shape[0]"
   ]
  },
  {
   "cell_type": "code",
   "execution_count": 112,
   "id": "535faa3f",
   "metadata": {},
   "outputs": [],
   "source": [
    "list_relax = [0 for _ in range(twitter_relax_text.shape[0])]\n",
    "list_stress = [1 for _ in range(twitter_stress_text.shape[0])]\n",
    "list_no_author_relax = [\"NO_AUTHOR\" for _ in range(twitter_relax_text.shape[0])]\n",
    "list_no_author_stress = [\"NO_AUTHOR\" for _ in range(twitter_stress_text.shape[0])]"
   ]
  },
  {
   "cell_type": "code",
   "execution_count": 113,
   "id": "4202057b",
   "metadata": {},
   "outputs": [],
   "source": [
    "df_relax = pd.DataFrame(twitter_relax_text, columns = ['text'])\n",
    "df_stress = pd.DataFrame(twitter_stress_text, columns = ['text'])"
   ]
  },
  {
   "cell_type": "code",
   "execution_count": null,
   "id": "23cf5794",
   "metadata": {},
   "outputs": [],
   "source": []
  },
  {
   "cell_type": "code",
   "execution_count": 114,
   "id": "647bc9d2",
   "metadata": {},
   "outputs": [
    {
     "data": {
      "text/html": [
       "<div>\n",
       "<style scoped>\n",
       "    .dataframe tbody tr th:only-of-type {\n",
       "        vertical-align: middle;\n",
       "    }\n",
       "\n",
       "    .dataframe tbody tr th {\n",
       "        vertical-align: top;\n",
       "    }\n",
       "\n",
       "    .dataframe thead th {\n",
       "        text-align: right;\n",
       "    }\n",
       "</style>\n",
       "<table border=\"1\" class=\"dataframe\">\n",
       "  <thead>\n",
       "    <tr style=\"text-align: right;\">\n",
       "      <th></th>\n",
       "      <th>id</th>\n",
       "      <th>text</th>\n",
       "      <th>label</th>\n",
       "    </tr>\n",
       "  </thead>\n",
       "  <tbody>\n",
       "    <tr>\n",
       "      <th>0</th>\n",
       "      <td>NO_AUTHOR</td>\n",
       "      <td>18 years enjoying a life full of love</td>\n",
       "      <td>0</td>\n",
       "    </tr>\n",
       "    <tr>\n",
       "      <th>1</th>\n",
       "      <td>NO_AUTHOR</td>\n",
       "      <td>brandon is my biggest supporter i could n't th...</td>\n",
       "      <td>0</td>\n",
       "    </tr>\n",
       "    <tr>\n",
       "      <th>2</th>\n",
       "      <td>NO_AUTHOR</td>\n",
       "      <td>changes , right now i'm going through changes</td>\n",
       "      <td>0</td>\n",
       "    </tr>\n",
       "    <tr>\n",
       "      <th>3</th>\n",
       "      <td>NO_AUTHOR</td>\n",
       "      <td>trader joes cashier gave me secret stickers be...</td>\n",
       "      <td>0</td>\n",
       "    </tr>\n",
       "    <tr>\n",
       "      <th>4</th>\n",
       "      <td>NO_AUTHOR</td>\n",
       "      <td>concrete has been poured ! up next is the inst...</td>\n",
       "      <td>0</td>\n",
       "    </tr>\n",
       "  </tbody>\n",
       "</table>\n",
       "</div>"
      ],
      "text/plain": [
       "          id                                               text  label\n",
       "0  NO_AUTHOR              18 years enjoying a life full of love      0\n",
       "1  NO_AUTHOR  brandon is my biggest supporter i could n't th...      0\n",
       "2  NO_AUTHOR      changes , right now i'm going through changes      0\n",
       "3  NO_AUTHOR  trader joes cashier gave me secret stickers be...      0\n",
       "4  NO_AUTHOR  concrete has been poured ! up next is the inst...      0"
      ]
     },
     "execution_count": 114,
     "metadata": {},
     "output_type": "execute_result"
    }
   ],
   "source": [
    "df_relax.insert(loc=0, column='id', value=list_no_author_relax)\n",
    "df_relax.insert(loc=2, column='label', value=list_relax)\n",
    "df_relax.head()"
   ]
  },
  {
   "cell_type": "code",
   "execution_count": 115,
   "id": "aba0a259",
   "metadata": {},
   "outputs": [
    {
     "data": {
      "text/html": [
       "<div>\n",
       "<style scoped>\n",
       "    .dataframe tbody tr th:only-of-type {\n",
       "        vertical-align: middle;\n",
       "    }\n",
       "\n",
       "    .dataframe tbody tr th {\n",
       "        vertical-align: top;\n",
       "    }\n",
       "\n",
       "    .dataframe thead th {\n",
       "        text-align: right;\n",
       "    }\n",
       "</style>\n",
       "<table border=\"1\" class=\"dataframe\">\n",
       "  <thead>\n",
       "    <tr style=\"text-align: right;\">\n",
       "      <th></th>\n",
       "      <th>id</th>\n",
       "      <th>text</th>\n",
       "      <th>label</th>\n",
       "    </tr>\n",
       "  </thead>\n",
       "  <tbody>\n",
       "    <tr>\n",
       "      <th>0</th>\n",
       "      <td>NO_AUTHOR</td>\n",
       "      <td>taking a financial stress test can be worse th...</td>\n",
       "      <td>1</td>\n",
       "    </tr>\n",
       "    <tr>\n",
       "      <th>1</th>\n",
       "      <td>NO_AUTHOR</td>\n",
       "      <td>do i work 10 hours today , or 5 today 5 tomorr...</td>\n",
       "      <td>1</td>\n",
       "    </tr>\n",
       "    <tr>\n",
       "      <th>2</th>\n",
       "      <td>NO_AUTHOR</td>\n",
       "      <td>just wrote my first query letter draft quite d...</td>\n",
       "      <td>1</td>\n",
       "    </tr>\n",
       "    <tr>\n",
       "      <th>3</th>\n",
       "      <td>NO_AUTHOR</td>\n",
       "      <td>getting to the snacks in the library 3 minutes...</td>\n",
       "      <td>1</td>\n",
       "    </tr>\n",
       "    <tr>\n",
       "      <th>4</th>\n",
       "      <td>NO_AUTHOR</td>\n",
       "      <td>20 , 000 words to write by june 10 in between ...</td>\n",
       "      <td>1</td>\n",
       "    </tr>\n",
       "  </tbody>\n",
       "</table>\n",
       "</div>"
      ],
      "text/plain": [
       "          id                                               text  label\n",
       "0  NO_AUTHOR  taking a financial stress test can be worse th...      1\n",
       "1  NO_AUTHOR  do i work 10 hours today , or 5 today 5 tomorr...      1\n",
       "2  NO_AUTHOR  just wrote my first query letter draft quite d...      1\n",
       "3  NO_AUTHOR  getting to the snacks in the library 3 minutes...      1\n",
       "4  NO_AUTHOR  20 , 000 words to write by june 10 in between ...      1"
      ]
     },
     "execution_count": 115,
     "metadata": {},
     "output_type": "execute_result"
    }
   ],
   "source": [
    "df_stress.insert(loc=0, column='id', value=list_no_author_stress)\n",
    "df_stress.insert(loc=2, column='label', value=list_stress)\n",
    "df_stress.head()"
   ]
  },
  {
   "cell_type": "code",
   "execution_count": 116,
   "id": "87be2bb6",
   "metadata": {},
   "outputs": [],
   "source": [
    "train_interview.rename(columns={' text': 'text', ' label': 'label'}, inplace=True, errors='raise')\n",
    "        \n",
    "test_interview.rename(columns={' text': 'text', ' label': 'label'}, inplace=True, errors='raise')\n"
   ]
  },
  {
   "cell_type": "code",
   "execution_count": 128,
   "id": "7dcc0809",
   "metadata": {},
   "outputs": [],
   "source": [
    "all_merged = pd.concat([df_stress, df_relax, train_interview, test_interview], axis=0, ignore_index=True)\n",
    "all_merged_no_ids =  all_merged.drop([\"id\"], axis=1)"
   ]
  },
  {
   "cell_type": "code",
   "execution_count": 130,
   "id": "ed31f51c",
   "metadata": {},
   "outputs": [],
   "source": [
    "all_merged.to_pickle(\"all_merged.pkl\")\n",
    "all_merged_no_ids.to_pickle(\"all_merged_no_ids.pkl\")"
   ]
  },
  {
   "cell_type": "code",
   "execution_count": 131,
   "id": "43f2e314",
   "metadata": {},
   "outputs": [],
   "source": [
    "all_merged_loaded = pd.read_pickle(\"all_merged.pkl\")\n",
    "all_merged_no_ids_loaded = pd.read_pickle(\"all_merged_no_ids.pkl\")"
   ]
  },
  {
   "cell_type": "code",
   "execution_count": 134,
   "id": "6f721ed7",
   "metadata": {},
   "outputs": [
    {
     "data": {
      "text/html": [
       "<div>\n",
       "<style scoped>\n",
       "    .dataframe tbody tr th:only-of-type {\n",
       "        vertical-align: middle;\n",
       "    }\n",
       "\n",
       "    .dataframe tbody tr th {\n",
       "        vertical-align: top;\n",
       "    }\n",
       "\n",
       "    .dataframe thead th {\n",
       "        text-align: right;\n",
       "    }\n",
       "</style>\n",
       "<table border=\"1\" class=\"dataframe\">\n",
       "  <thead>\n",
       "    <tr style=\"text-align: right;\">\n",
       "      <th></th>\n",
       "      <th>id</th>\n",
       "      <th>text</th>\n",
       "      <th>label</th>\n",
       "    </tr>\n",
       "  </thead>\n",
       "  <tbody>\n",
       "    <tr>\n",
       "      <th>0</th>\n",
       "      <td>NO_AUTHOR</td>\n",
       "      <td>taking a financial stress test can be worse th...</td>\n",
       "      <td>1</td>\n",
       "    </tr>\n",
       "    <tr>\n",
       "      <th>1</th>\n",
       "      <td>NO_AUTHOR</td>\n",
       "      <td>do i work 10 hours today , or 5 today 5 tomorr...</td>\n",
       "      <td>1</td>\n",
       "    </tr>\n",
       "    <tr>\n",
       "      <th>2</th>\n",
       "      <td>NO_AUTHOR</td>\n",
       "      <td>just wrote my first query letter draft quite d...</td>\n",
       "      <td>1</td>\n",
       "    </tr>\n",
       "    <tr>\n",
       "      <th>3</th>\n",
       "      <td>NO_AUTHOR</td>\n",
       "      <td>getting to the snacks in the library 3 minutes...</td>\n",
       "      <td>1</td>\n",
       "    </tr>\n",
       "    <tr>\n",
       "      <th>4</th>\n",
       "      <td>NO_AUTHOR</td>\n",
       "      <td>20 , 000 words to write by june 10 in between ...</td>\n",
       "      <td>1</td>\n",
       "    </tr>\n",
       "  </tbody>\n",
       "</table>\n",
       "</div>"
      ],
      "text/plain": [
       "          id                                               text  label\n",
       "0  NO_AUTHOR  taking a financial stress test can be worse th...      1\n",
       "1  NO_AUTHOR  do i work 10 hours today , or 5 today 5 tomorr...      1\n",
       "2  NO_AUTHOR  just wrote my first query letter draft quite d...      1\n",
       "3  NO_AUTHOR  getting to the snacks in the library 3 minutes...      1\n",
       "4  NO_AUTHOR  20 , 000 words to write by june 10 in between ...      1"
      ]
     },
     "execution_count": 134,
     "metadata": {},
     "output_type": "execute_result"
    }
   ],
   "source": [
    "all_merged_loaded.head()"
   ]
  },
  {
   "cell_type": "code",
   "execution_count": 146,
   "id": "d69af27a",
   "metadata": {},
   "outputs": [
    {
     "data": {
      "text/html": [
       "<div>\n",
       "<style scoped>\n",
       "    .dataframe tbody tr th:only-of-type {\n",
       "        vertical-align: middle;\n",
       "    }\n",
       "\n",
       "    .dataframe tbody tr th {\n",
       "        vertical-align: top;\n",
       "    }\n",
       "\n",
       "    .dataframe thead th {\n",
       "        text-align: right;\n",
       "    }\n",
       "</style>\n",
       "<table border=\"1\" class=\"dataframe\">\n",
       "  <thead>\n",
       "    <tr style=\"text-align: right;\">\n",
       "      <th></th>\n",
       "      <th>id</th>\n",
       "      <th>text</th>\n",
       "      <th>label</th>\n",
       "    </tr>\n",
       "  </thead>\n",
       "  <tbody>\n",
       "    <tr>\n",
       "      <th>59768</th>\n",
       "      <td>NO_AUTHOR</td>\n",
       "      <td>18 years enjoying a life full of love</td>\n",
       "      <td>0</td>\n",
       "    </tr>\n",
       "    <tr>\n",
       "      <th>59769</th>\n",
       "      <td>NO_AUTHOR</td>\n",
       "      <td>brandon is my biggest supporter i could n't th...</td>\n",
       "      <td>0</td>\n",
       "    </tr>\n",
       "    <tr>\n",
       "      <th>59770</th>\n",
       "      <td>NO_AUTHOR</td>\n",
       "      <td>changes , right now i'm going through changes</td>\n",
       "      <td>0</td>\n",
       "    </tr>\n",
       "    <tr>\n",
       "      <th>59771</th>\n",
       "      <td>NO_AUTHOR</td>\n",
       "      <td>trader joes cashier gave me secret stickers be...</td>\n",
       "      <td>0</td>\n",
       "    </tr>\n",
       "    <tr>\n",
       "      <th>59772</th>\n",
       "      <td>NO_AUTHOR</td>\n",
       "      <td>concrete has been poured ! up next is the inst...</td>\n",
       "      <td>0</td>\n",
       "    </tr>\n",
       "    <tr>\n",
       "      <th>...</th>\n",
       "      <td>...</td>\n",
       "      <td>...</td>\n",
       "      <td>...</td>\n",
       "    </tr>\n",
       "    <tr>\n",
       "      <th>369579</th>\n",
       "      <td>sp_24-01</td>\n",
       "      <td>But it's it's not in a way that I'm like reall...</td>\n",
       "      <td>0</td>\n",
       "    </tr>\n",
       "    <tr>\n",
       "      <th>369580</th>\n",
       "      <td>sp_24-01</td>\n",
       "      <td>And I think it's it's quite interesting</td>\n",
       "      <td>0</td>\n",
       "    </tr>\n",
       "    <tr>\n",
       "      <th>369581</th>\n",
       "      <td>sp_24-01</td>\n",
       "      <td>But I discovered this TV show and I've been li...</td>\n",
       "      <td>0</td>\n",
       "    </tr>\n",
       "    <tr>\n",
       "      <th>369582</th>\n",
       "      <td>sp_24-01</td>\n",
       "      <td>I didn't have time to really watch any movies ...</td>\n",
       "      <td>0</td>\n",
       "    </tr>\n",
       "    <tr>\n",
       "      <th>369583</th>\n",
       "      <td>sp_23-12</td>\n",
       "      <td>That's the good part of living abroad there is...</td>\n",
       "      <td>0</td>\n",
       "    </tr>\n",
       "  </tbody>\n",
       "</table>\n",
       "<p>309002 rows × 3 columns</p>\n",
       "</div>"
      ],
      "text/plain": [
       "               id                                               text  label\n",
       "59768   NO_AUTHOR              18 years enjoying a life full of love      0\n",
       "59769   NO_AUTHOR  brandon is my biggest supporter i could n't th...      0\n",
       "59770   NO_AUTHOR      changes , right now i'm going through changes      0\n",
       "59771   NO_AUTHOR  trader joes cashier gave me secret stickers be...      0\n",
       "59772   NO_AUTHOR  concrete has been poured ! up next is the inst...      0\n",
       "...           ...                                                ...    ...\n",
       "369579   sp_24-01  But it's it's not in a way that I'm like reall...      0\n",
       "369580   sp_24-01            And I think it's it's quite interesting      0\n",
       "369581   sp_24-01  But I discovered this TV show and I've been li...      0\n",
       "369582   sp_24-01  I didn't have time to really watch any movies ...      0\n",
       "369583   sp_23-12  That's the good part of living abroad there is...      0\n",
       "\n",
       "[309002 rows x 3 columns]"
      ]
     },
     "execution_count": 146,
     "metadata": {},
     "output_type": "execute_result"
    }
   ],
   "source": [
    "all_merged_loaded[all_merged_loaded[\"label\"] == 0]"
   ]
  }
 ],
 "metadata": {
  "kernelspec": {
   "display_name": "Python 3 (ipykernel)",
   "language": "python",
   "name": "python3"
  },
  "language_info": {
   "codemirror_mode": {
    "name": "ipython",
    "version": 3
   },
   "file_extension": ".py",
   "mimetype": "text/x-python",
   "name": "python",
   "nbconvert_exporter": "python",
   "pygments_lexer": "ipython3",
   "version": "3.9.5"
  }
 },
 "nbformat": 4,
 "nbformat_minor": 5
}
